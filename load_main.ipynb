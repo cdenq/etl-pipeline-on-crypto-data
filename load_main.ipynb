{
 "cells": [
  {
   "cell_type": "markdown",
   "metadata": {},
   "source": [
    "# Dependencies"
   ]
  },
  {
   "cell_type": "code",
   "execution_count": 2,
   "metadata": {},
   "outputs": [],
   "source": [
    "# Pandas\n",
    "import pandas as pd\n",
    "\n",
    "# SQL Alchemy\n",
    "from sqlalchemy import create_engine\n",
    "from sqlalchemy.ext.declarative import declarative_base\n",
    "from sqlalchemy import Column, Integer, Float, Date\n",
    "from sqlalchemy.orm import session"
   ]
  },
  {
   "cell_type": "code",
   "execution_count": 3,
   "metadata": {},
   "outputs": [],
   "source": [
    "Base = declarative_base()"
   ]
  },
  {
   "cell_type": "markdown",
   "metadata": {},
   "source": [
    "# Importing Cleaned Data"
   ]
  },
  {
   "cell_type": "code",
   "execution_count": 1,
   "metadata": {},
   "outputs": [
    {
     "ename": "NameError",
     "evalue": "name 'pd' is not defined",
     "output_type": "error",
     "traceback": [
      "\u001b[1;31m---------------------------------------------------------------------------\u001b[0m",
      "\u001b[1;31mNameError\u001b[0m                                 Traceback (most recent call last)",
      "\u001b[1;32mC:\\Users\\CHRISM~1\\AppData\\Local\\Temp/ipykernel_37932/2626780851.py\u001b[0m in \u001b[0;36m<module>\u001b[1;34m\u001b[0m\n\u001b[1;32m----> 1\u001b[1;33m \u001b[0mdf_1\u001b[0m \u001b[1;33m=\u001b[0m \u001b[0mpd\u001b[0m\u001b[1;33m.\u001b[0m\u001b[0mread_csv\u001b[0m\u001b[1;33m(\u001b[0m\u001b[1;34m'Chris_Tether,Monero/Output/cleaned_monero.csv'\u001b[0m\u001b[1;33m)\u001b[0m\u001b[1;33m\u001b[0m\u001b[1;33m\u001b[0m\u001b[0m\n\u001b[0m\u001b[0;32m      2\u001b[0m \u001b[0mdf_2\u001b[0m \u001b[1;33m=\u001b[0m \u001b[0mpd\u001b[0m\u001b[1;33m.\u001b[0m\u001b[0mread_csv\u001b[0m\u001b[1;33m(\u001b[0m\u001b[1;34m'Chris_Tether,Monero/Output/cleaned_tether.csv'\u001b[0m\u001b[1;33m)\u001b[0m\u001b[1;33m\u001b[0m\u001b[1;33m\u001b[0m\u001b[0m\n\u001b[0;32m      3\u001b[0m \u001b[0mdf_3\u001b[0m \u001b[1;33m=\u001b[0m \u001b[0mpd\u001b[0m\u001b[1;33m.\u001b[0m\u001b[0mread_csv\u001b[0m\u001b[1;33m(\u001b[0m\u001b[1;34m'Ben_DOGE_BINANCE/coin_Binance_yahoo_cleaned.csv'\u001b[0m\u001b[1;33m)\u001b[0m \u001b[1;31m#doge\u001b[0m\u001b[1;33m\u001b[0m\u001b[1;33m\u001b[0m\u001b[0m\n\u001b[0;32m      4\u001b[0m \u001b[0mdf_4\u001b[0m \u001b[1;33m=\u001b[0m \u001b[0mpd\u001b[0m\u001b[1;33m.\u001b[0m\u001b[0mread_csv\u001b[0m\u001b[1;33m(\u001b[0m\u001b[1;34m'Ben_DOGE_BINANCE/coin_Doge_cleaned.csv'\u001b[0m\u001b[1;33m)\u001b[0m \u001b[1;31m#binance\u001b[0m\u001b[1;33m\u001b[0m\u001b[1;33m\u001b[0m\u001b[0m\n\u001b[0;32m      5\u001b[0m \u001b[0mdf_5\u001b[0m \u001b[1;33m=\u001b[0m \u001b[0mpd\u001b[0m\u001b[1;33m.\u001b[0m\u001b[0mread_csv\u001b[0m\u001b[1;33m(\u001b[0m\u001b[1;34m'hana_bitcoin/'\u001b[0m\u001b[1;33m)\u001b[0m \u001b[1;31m#etherum\u001b[0m\u001b[1;33m\u001b[0m\u001b[1;33m\u001b[0m\u001b[0m\n",
      "\u001b[1;31mNameError\u001b[0m: name 'pd' is not defined"
     ]
    }
   ],
   "source": [
    "df_1 = pd.read_csv('Chris_Tether,Monero/Output/cleaned_monero.csv')\n",
    "df_2 = pd.read_csv('Chris_Tether,Monero/Output/cleaned_tether.csv')\n",
    "df_3 = pd.read_csv('Ben_DOGE_BINANCE/coin_Binance_yahoo_cleaned.csv') #doge\n",
    "df_4 = pd.read_csv('Ben_DOGE_BINANCE/coin_Doge_cleaned.csv') #binance\n",
    "df_5 = pd.read_csv('hana_bitcoin/') #etherum\n",
    "df_6 = pd.read_csv('hana_bitcoin/') #bitcoin\n",
    "df_7 = pd.read_csv('Emily_Indices/cleaned csv outputs/GDAXI_agg.csv') #big stocks\n",
    "df_8 = pd.read_csv('Emily_Indices/cleaned csv outputs/GSPTSE_agg.csv') #big stocks\n",
    "df_9 = pd.read_csv('Emily_Indices/cleaned csv outputs/HSI_agg.csv') #big stocks\n",
    "df_10 = pd.read_csv('Emily_Indices/cleaned csv outputs/IXIC_agg.csv') #big stocks\n",
    "df_11 = pd.read_csv('Emily_Indices/cleaned csv outputs/J203_agg.csv') #big stocks\n",
    "df_12 = pd.read_csv('Emily_Indices/cleaned csv outputs/KS11_agg.csv') #big stocks\n",
    "df_13 = pd.read_csv('Emily_Indices/cleaned csv outputs/N100_agg.csv') #big stocks\n",
    "df_14 = pd.read_csv('Emily_Indices/cleaned csv outputs/N225_agg.csv') #big stocks\n",
    "df_15 = pd.read_csv('Emily_Indices/cleaned csv outputs/NSEI_agg.csv') #big stocks\n",
    "df_16 = pd.read_csv('Emily_Indices/cleaned csv outputs/NYA_agg.csv') #big stocks\n",
    "df_17 = pd.read_csv('Emily_Indices/cleaned csv outputs/oneSS_agg.csv') #big stocks\n",
    "df_18 = pd.read_csv('Emily_Indices/cleaned csv outputs/SSMI_agg.csv') #big stocks\n",
    "df_19 = pd.read_csv('Emily_Indices/cleaned csv outputs/SZ_agg.csv') #big stocks\n",
    "df_20 = pd.read_csv('Emily_Indices/cleaned csv outputs/TWII_agg.csv') #big stocks"
   ]
  },
  {
   "cell_type": "markdown",
   "metadata": {},
   "source": [
    "# Loading to SQL"
   ]
  },
  {
   "cell_type": "code",
   "execution_count": 4,
   "metadata": {},
   "outputs": [],
   "source": [
    "rds_connection_string = \"postgres:postgres@localhost:5432/crypto_db\"\n",
    "engine = create_engine(f'postgresql://{rds_connection_string}')"
   ]
  },
  {
   "cell_type": "code",
   "execution_count": 18,
   "metadata": {},
   "outputs": [],
   "source": [
    "df_1.to_sql(name='', con=engine, if_exists='append', index=False)\n",
    "df_2.to_sql(name='', con=engine, if_exists='append', index=False)\n",
    "df_3.to_sql(name='', con=engine, if_exists='append', index=False)\n",
    "df_4.to_sql(name='', con=engine, if_exists='append', index=False)\n",
    "df_5.to_sql(name='', con=engine, if_exists='append', index=False)\n",
    "df_6.to_sql(name='', con=engine, if_exists='append', index=False)\n",
    "df_7.to_sql(name='', con=engine, if_exists='append', index=False)\n",
    "df_8.to_sql(name='', con=engine, if_exists='append', index=False)\n",
    "df_9.to_sql(name='', con=engine, if_exists='append', index=False)\n",
    "df_10.to_sql(name='', con=engine, if_exists='append', index=False)\n",
    "df_11.to_sql(name='', con=engine, if_exists='append', index=False)\n",
    "df_12.to_sql(name='', con=engine, if_exists='append', index=False)\n",
    "df_13.to_sql(name='', con=engine, if_exists='append', index=False)\n",
    "df_14.to_sql(name='', con=engine, if_exists='append', index=False)\n",
    "df_15.to_sql(name='', con=engine, if_exists='append', index=False)\n",
    "df_16.to_sql(name='', con=engine, if_exists='append', index=False)\n",
    "df_17.to_sql(name='', con=engine, if_exists='append', index=False)\n",
    "df_18.to_sql(name='', con=engine, if_exists='append', index=False)\n",
    "df_19.to_sql(name='', con=engine, if_exists='append', index=False)\n",
    "df_20.to_sql(name='', con=engine, if_exists='append', index=False)\n",
    "df_21.to_sql(name='', con=engine, if_exists='append', index=False)"
   ]
  },
  {
   "cell_type": "code",
   "execution_count": 1,
   "metadata": {},
   "outputs": [
    {
     "ename": "NameError",
     "evalue": "name 'pd' is not defined",
     "output_type": "error",
     "traceback": [
      "\u001b[1;31m---------------------------------------------------------------------------\u001b[0m",
      "\u001b[1;31mNameError\u001b[0m                                 Traceback (most recent call last)",
      "\u001b[1;32mC:\\Users\\CHRISM~1\\AppData\\Local\\Temp/ipykernel_30240/762371595.py\u001b[0m in \u001b[0;36m<module>\u001b[1;34m\u001b[0m\n\u001b[1;32m----> 1\u001b[1;33m \u001b[0mpd\u001b[0m\u001b[1;33m.\u001b[0m\u001b[0mread_sql_query\u001b[0m\u001b[1;33m(\u001b[0m\u001b[1;34m'select * from Tether'\u001b[0m\u001b[1;33m,\u001b[0m \u001b[0mcon\u001b[0m\u001b[1;33m=\u001b[0m\u001b[0mengine\u001b[0m\u001b[1;33m)\u001b[0m\u001b[1;33m.\u001b[0m\u001b[0mhead\u001b[0m\u001b[1;33m(\u001b[0m\u001b[1;33m)\u001b[0m\u001b[1;33m\u001b[0m\u001b[1;33m\u001b[0m\u001b[0m\n\u001b[0m",
      "\u001b[1;31mNameError\u001b[0m: name 'pd' is not defined"
     ]
    }
   ],
   "source": [
    "pd.read_sql_query('select * from Tether', con=engine).head()"
   ]
  },
  {
   "cell_type": "code",
   "execution_count": null,
   "metadata": {},
   "outputs": [],
   "source": []
  }
 ],
 "metadata": {
  "interpreter": {
   "hash": "ea2b65024e24df10fa5992686c1c8510a4831519011fa6b2d6f1788e8385f578"
  },
  "kernelspec": {
   "display_name": "Python 3.8.12 64-bit ('PythonData': conda)",
   "language": "python",
   "name": "python3"
  },
  "language_info": {
   "codemirror_mode": {
    "name": "ipython",
    "version": 3
   },
   "file_extension": ".py",
   "mimetype": "text/x-python",
   "name": "python",
   "nbconvert_exporter": "python",
   "pygments_lexer": "ipython3",
   "version": "3.8.12"
  },
  "orig_nbformat": 4
 },
 "nbformat": 4,
 "nbformat_minor": 2
}
