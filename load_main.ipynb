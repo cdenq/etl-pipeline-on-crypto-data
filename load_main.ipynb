{
 "cells": [
  {
   "cell_type": "markdown",
   "metadata": {},
   "source": [
    "# Dependencies"
   ]
  },
  {
   "cell_type": "code",
   "execution_count": 1,
   "metadata": {},
   "outputs": [],
   "source": [
    "# Pandas\n",
    "import pandas as pd\n",
    "\n",
    "# SQL Alchemy\n",
    "from sqlalchemy import create_engine\n",
    "from sqlalchemy.ext.declarative import declarative_base\n",
    "\n",
    "from sqlalchemy import Column, Integer, Float, Date\n",
    "from sqlalchemy.orm import session"
   ]
  },
  {
   "cell_type": "code",
   "execution_count": 2,
   "metadata": {},
   "outputs": [],
   "source": [
    "Base = declarative_base()"
   ]
  },
  {
   "cell_type": "markdown",
   "metadata": {},
   "source": [
    "# Importing Cleaned Data"
   ]
  },
  {
   "cell_type": "code",
   "execution_count": 3,
   "metadata": {},
   "outputs": [],
   "source": [
    "df_1 = pd.read_csv('Chris_Tether,Monero/Output/cleaned_monero.csv')\n",
    "df_2 = pd.read_csv('Chris_Tether,Monero/Output/cleaned_tether.csv')\n",
    "df_3 = pd.read_csv('') #doge\n",
    "df_4 = pd.read_csv('') #binance\n",
    "df_5 = pd.read_csv('') #etherum\n",
    "df_6 = pd.read_csv('') #\n",
    "df_7 = pd.read_csv('') #bitcoin\n",
    "df_8 = pd.read_csv('') #big stocks"
   ]
  },
  {
   "cell_type": "markdown",
   "metadata": {},
   "source": [
    "# Loading to SQL"
   ]
  },
  {
   "cell_type": "code",
   "execution_count": 4,
   "metadata": {},
   "outputs": [],
   "source": [
    "rds_connection_string = \"postgres:postgres@localhost:5432/crypto_db\"\n",
    "engine = create_engine(f'postgresql://{rds_connection_string}')"
   ]
  },
  {
   "cell_type": "code",
   "execution_count": 18,
   "metadata": {},
   "outputs": [],
   "source": [
    "df_1.to_sql(name='Tether', con=engine, if_exists='append', index=False)\n",
    "df_2.to_sql(name='Monero', con=engine, if_exists='append', index=False)\n",
    "df_3.to_sql(name='Dogecoin', con=engine, if_exists='append', index=False)\n",
    "df_4.to_sql(name='Monero', con=engine, if_exists='append', index=False)\n",
    "df_5.to_sql(name='Monero', con=engine, if_exists='append', index=False)\n",
    "df_6.to_sql(name='Monero', con=engine, if_exists='append', index=False)\n",
    "df_7.to_sql(name='Monero', con=engine, if_exists='append', index=False)\n",
    "df_8.to_sql(name='Monero', con=engine, if_exists='append', index=False)"
   ]
  }
 ],
 "metadata": {
  "interpreter": {
   "hash": "ea2b65024e24df10fa5992686c1c8510a4831519011fa6b2d6f1788e8385f578"
  },
  "kernelspec": {
   "display_name": "Python 3.8.12 64-bit ('PythonData': conda)",
   "language": "python",
   "name": "python3"
  },
  "language_info": {
   "codemirror_mode": {
    "name": "ipython",
    "version": 3
   },
   "file_extension": ".py",
   "mimetype": "text/x-python",
   "name": "python",
   "nbconvert_exporter": "python",
   "pygments_lexer": "ipython3",
   "version": "3.8.12"
  },
  "orig_nbformat": 4
 },
 "nbformat": 4,
 "nbformat_minor": 2
}
