{
 "cells": [
  {
   "cell_type": "code",
   "execution_count": null,
   "id": "b37a02d0",
   "metadata": {},
   "outputs": [],
   "source": [
    "api_key = e18ffad1-92cb-467e-89b0-13f9b19255c4"
   ]
  }
 ],
 "metadata": {
  "kernelspec": {
   "display_name": "Python [conda env:PythonData] *",
   "language": "python",
   "name": "conda-env-PythonData-py"
  },
  "language_info": {
   "codemirror_mode": {
    "name": "ipython",
    "version": 3
   },
   "file_extension": ".py",
   "mimetype": "text/x-python",
   "name": "python",
   "nbconvert_exporter": "python",
   "pygments_lexer": "ipython3",
   "version": "3.8.11"
  }
 },
 "nbformat": 4,
 "nbformat_minor": 5
}
